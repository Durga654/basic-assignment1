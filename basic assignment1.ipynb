{
 "cells": [
  {
   "cell_type": "code",
   "execution_count": 3,
   "outputs": [
    {
     "name": "stdout",
     "output_type": "stream",
     "text": [
      "23\n",
      "['Hey', 'i', 'am', 'from', 'New', 'Delhi']\n",
      "<class 'list'>\n"
     ]
    }
   ],
   "source": [
    "s=\"Hey i am from New Delhi\"\n",
    "print(len(s))\n",
    "A=s.split()\n",
    "print(A)\n",
    "print(type(A))\n",
    "\n"
   ],
   "metadata": {
    "collapsed": false,
    "pycharm": {
     "name": "#%%\n"
    }
   }
  },
  {
   "cell_type": "code",
   "execution_count": 2,
   "outputs": [
    {
     "name": "stdout",
     "output_type": "stream",
     "text": [
      "Name is rahul\n",
      "Rame Is Rahul\n",
      "NAME IS RAHUL\n"
     ]
    }
   ],
   "source": [
    "s=\"name is rahul\"\n",
    "print(s.replace('n','N'))\n",
    "print(s.replace('n','R').title())\n",
    "print(s.upper())\n"
   ],
   "metadata": {
    "collapsed": false,
    "pycharm": {
     "name": "#%%\n"
    }
   }
  },
  {
   "cell_type": "code",
   "execution_count": 4,
   "outputs": [
    {
     "name": "stdout",
     "output_type": "stream",
     "text": [
      "perimeter: 30\n",
      "area: 50\n"
     ]
    }
   ],
   "source": [
    "l = int(input(\"enter the lenght of the rectangle:\"))\n",
    "b = int(input(\"enter the breadth of the rectangle: \"))\n",
    "p=2*(l+b)\n",
    "a=l*b\n",
    "print(\"perimeter:\",p)\n",
    "print(\"area:\",a)"
   ],
   "metadata": {
    "collapsed": false,
    "pycharm": {
     "name": "#%%\n"
    }
   }
  },
  {
   "cell_type": "code",
   "execution_count": 5,
   "outputs": [
    {
     "name": "stdout",
     "output_type": "stream",
     "text": [
      "circumference of a circle:  452.16\n",
      "area of circle:  16277.76\n"
     ]
    }
   ],
   "source": [
    "d=int(input(\"enter the diameter: \"))\n",
    "r=d/2\n",
    "c=2*3.14*r\n",
    "a=3.14*r*r\n",
    "print(\"circumference of a circle: \",c)\n",
    "print(\"area of circle: \",a)\n"
   ],
   "metadata": {
    "collapsed": false,
    "pycharm": {
     "name": "#%%\n"
    }
   }
  },
  {
   "cell_type": "code",
   "execution_count": 6,
   "outputs": [
    {
     "name": "stdout",
     "output_type": "stream",
     "text": [
      "(-10+12.24744871391589j)\n",
      "(-10-12.24744871391589j)\n"
     ]
    }
   ],
   "source": [
    "import cmath\n",
    "a=int(input(\"enter a: \"))\n",
    "b=int(input(\"enter b: \"))\n",
    "c=int(input(\"enter c: \"))\n",
    "d=b**2-4*a*c\n",
    "root1=(-b+cmath.sqrt(d))/2*a\n",
    "root2=(-b-cmath.sqrt(d))/2*a\n",
    "print(root1)\n",
    "print(root2)"
   ],
   "metadata": {
    "collapsed": false,
    "pycharm": {
     "name": "#%%\n"
    }
   }
  },
  {
   "cell_type": "code",
   "execution_count": 8,
   "outputs": [
    {
     "name": "stdout",
     "output_type": "stream",
     "text": [
      "volume:  14130.0\n"
     ]
    }
   ],
   "source": [
    "r=int(input(\"enter a radius: \"))\n",
    "v=(4/3)*3.14*(r*r*r)\n",
    "print(\"volume: \",v)"
   ],
   "metadata": {
    "collapsed": false,
    "pycharm": {
     "name": "#%%\n"
    }
   }
  },
  {
   "cell_type": "code",
   "execution_count": 9,
   "outputs": [
    {
     "name": "stdout",
     "output_type": "stream",
     "text": [
      "total number of digits n = 4\n"
     ]
    }
   ],
   "source": [
    "n=3454\n",
    "count=0\n",
    "while n>0:\n",
    "    n=n//10\n",
    "    count=count+1\n",
    "print(\"total number of digits n =\",count)"
   ],
   "metadata": {
    "collapsed": false,
    "pycharm": {
     "name": "#%%\n"
    }
   }
  },
  {
   "cell_type": "code",
   "execution_count": 10,
   "outputs": [
    {
     "name": "stdout",
     "output_type": "stream",
     "text": [
      "HELLO WORLD\n"
     ]
    }
   ],
   "source": [
    "str=input(\"enter a string: \")\n",
    "print(str.upper())"
   ],
   "metadata": {
    "collapsed": false,
    "pycharm": {
     "name": "#%%\n"
    }
   }
  },
  {
   "cell_type": "code",
   "execution_count": 11,
   "outputs": [
    {
     "name": "stdout",
     "output_type": "stream",
     "text": [
      "jello\n"
     ]
    }
   ],
   "source": [
    "s = input(\"enter a string: \")\n",
    "n=int(input(\"enter a index number: \"))\n",
    "c=input(\"enter a character\")\n",
    "str=s[0:n]+c+s[1:]\n",
    "print(str)"
   ],
   "metadata": {
    "collapsed": false,
    "pycharm": {
     "name": "#%%\n"
    }
   }
  },
  {
   "cell_type": "code",
   "execution_count": 12,
   "outputs": [
    {
     "data": {
      "text/plain": "'ereht yeH'"
     },
     "execution_count": 12,
     "metadata": {},
     "output_type": "execute_result"
    }
   ],
   "source": [
    "str=\"Hey there\"\n",
    "(str[::-1])"
   ],
   "metadata": {
    "collapsed": false,
    "pycharm": {
     "name": "#%%\n"
    }
   }
  }
 ],
 "metadata": {
  "kernelspec": {
   "display_name": "Python 3",
   "language": "python",
   "name": "python3"
  },
  "language_info": {
   "codemirror_mode": {
    "name": "ipython",
    "version": 2
   },
   "file_extension": ".py",
   "mimetype": "text/x-python",
   "name": "python",
   "nbconvert_exporter": "python",
   "pygments_lexer": "ipython2",
   "version": "2.7.6"
  }
 },
 "nbformat": 4,
 "nbformat_minor": 0
}